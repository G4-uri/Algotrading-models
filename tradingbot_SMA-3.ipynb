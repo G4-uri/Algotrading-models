{
  "nbformat": 4,
  "nbformat_minor": 0,
  "metadata": {
    "colab": {
      "provenance": []
    },
    "kernelspec": {
      "name": "python3",
      "display_name": "Python 3"
    },
    "language_info": {
      "name": "python"
    }
  },
  "cells": [
    {
      "cell_type": "code",
      "execution_count": null,
      "metadata": {
        "colab": {
          "base_uri": "https://localhost:8080/"
        },
        "id": "TTgpgEYW3vf9",
        "outputId": "78c7a55a-d624-43c5-e73d-fbdb239f9de5"
      },
      "outputs": [
        {
          "output_type": "execute_result",
          "data": {
            "text/plain": [
              "datetime.datetime(2025, 4, 28, 14, 26, 19, 314139)"
            ]
          },
          "metadata": {},
          "execution_count": 6
        }
      ],
      "source": [
        "import yfinance as yf\n",
        "import datetime as dt\n",
        "from datetime import datetime\n",
        "import time\n",
        "\n",
        "class Trading_Strategy:\n",
        "  def __init__(self, name):\n",
        "\n",
        "      self.name = name\n",
        "  def generate_signal(self, price):\n",
        "    print(\"Method overriding\")\n",
        "    return \"Hold\"\n",
        "\n",
        "#strategy class\n",
        "class SMA(Trading_Strategy):\n",
        "  def __init__(self, short_window, long_window):\n",
        "    super().__init__(\"SMA\")\n",
        "    self.short_window = short_window\n",
        "    self.long_window = long_window\n",
        "  def generate_signal(self, price):\n",
        "    if len(price)<self.long_window:\n",
        "      return \"Hold\"\n",
        "\n",
        "      short_avg = sum(price[-self.short_window])/ self.short_window\n",
        "      long_avg = sum(price[-self.long_window])/self.long_window\n",
        "\n",
        "      if short_avg>long_avg:\n",
        "        return \"Buy\"\n",
        "      elif short_avg<long_avg:\n",
        "        return \"Sell\"\n",
        "      else:\n",
        "        return \"Hold\"\n",
        "    @property\n",
        "    def short_window(self):\n",
        "      return self.short_window\n",
        "    @property\n",
        "    def long_window(self):\n",
        "      return self.long_window\n",
        "\n",
        "#Trade management class\n",
        "class Trade:\n",
        "  def __init__(self, strategy_name, signal, amount):\n",
        "    self.strategy_name = strategy_name\n",
        "    self.signal = signal\n",
        "    self.amount = amount\n",
        "    self.timestamp = dt.now()\n",
        "\n",
        "  def execute(self):\n",
        "    print(f\"Executing {self.signal}, using {self.strategy_name }, for {self.amount}, at{self.timestamp }\")\n",
        "\n",
        "  @property\n",
        "  def strategy_name(self):\n",
        "    return self.strategy_name\n",
        "  @property\n",
        "  def signal(self):\n",
        "    return self.signal\n",
        "  @property\n",
        "  def amount(self):\n",
        "    return self.amount\n",
        "  @property\n",
        "  def timestamp(self):\n",
        "    return self.timestamp\n",
        "\n",
        "my_obj = SMA(Trading_Strategy, long_window=5)\n",
        "my_obj.generate_signal([1,23,32,4,5])\n",
        "\n",
        "\n",
        "datetime.now()\n",
        "\n",
        "\n"
      ]
    },
    {
      "cell_type": "markdown",
      "source": [
        "Mock API"
      ],
      "metadata": {
        "id": "IBsPpIpLcjkG"
      }
    },
    {
      "cell_type": "code",
      "source": [
        "class MocktradingAPI:\n",
        "  def __init__(self, balance):\n",
        "    self.balance = balance\n",
        "  def place_order(self, trade, price_per):\n",
        "    if trade.signal==\"Buy\" and self.balance>=trade.amount*price_per:\n",
        "      self.balance-=trade.amount*price_per\n",
        "      print(f\"Placed order to {trade.signal}, for units{trade.amount}, at {trade.price_per}. Remaining balance: {self.balance}\")\n",
        "    elif trade.signal==\"Sell\":\n",
        "      self.balance+=trade.amount*price_per\n",
        "      print(f\"Placed order to {trade.signal}, for units{trade.amount}, at {trade.price_per}. Remaining balance: {self.balance}\")\n",
        "    else:\n",
        "\n",
        "      print(\"Insufficient funds\")\n",
        "  def get_balance(self):\n",
        "    return self.balance\n",
        "\n",
        "\n",
        "\n"
      ],
      "metadata": {
        "id": "95EIgBHYCzxM"
      },
      "execution_count": null,
      "outputs": []
    },
    {
      "cell_type": "code",
      "source": [
        "class System:\n",
        "    def __init__(self, api, strategy, symbol):\n",
        "        self.__api = api\n",
        "        self.__strategy = strategy\n",
        "        self.__symbol = symbol\n",
        "        self.__price_data = []\n",
        "\n",
        "    def fetch_price_data(self):\n",
        "        data = yf.download(tickers=self.__symbol, period='1d', interval='1mo')\n",
        "        if not data.empty:\n",
        "            price = data['Close'].iloc[-1]\n",
        "            self.__price_data.append(price)\n",
        "            if len(self.__price_data) > self.__strategy.long_window:\n",
        "                self.__price_data.pop(0)\n",
        "            print(f\"Fetched data: {price}\")\n",
        "        else:\n",
        "            print(\"No data fetched\")\n",
        "\n",
        "    def run(self):\n",
        "        self.fetch_price_data()\n",
        "        signal = self.__strategy.generate_signal(self.__price_data)\n",
        "        print(f\"Generated signal: {signal}\")\n",
        "        signal = self.__strategy.generate_signal(self.__price_data)\n",
        "        print(f\"Generated signal: {signal}\")\n",
        "\n",
        "        if signal in [\"Buy\", \"Sell\"]:\n",
        "\n",
        "          trade = Trade(self.__strategy.name, signal, 1)\n",
        "          trade.execute()\n",
        "\n",
        "          price_per_unit = self.__price_data[-1]\n",
        "          self.__api.place_order(trade, price_per_unit)\n",
        "\n",
        "    @property\n",
        "    def api(self):\n",
        "        return self.__api\n",
        "\n",
        "    @property\n",
        "    def strategy(self):\n",
        "        return self.__strategy\n",
        "\n",
        "    @property\n",
        "    def symbol(self):\n",
        "        return self.__symbol\n",
        "\n",
        "    @property\n",
        "    def price_data(self):\n",
        "        return self.__price_data\n",
        "\n",
        "# Usage\n",
        "price = [201,202.32,201.56,199.80, 201, 203, 207, 205.54]\n",
        "symbol = 'AAPL'\n",
        "api = MocktradingAPI(balance=10000)\n",
        "strategy = SMA(3, 6)\n",
        "system = System(api, strategy, symbol)\n",
        "\n",
        "for _ in range(10):\n",
        "    system.run()\n",
        "    print(f\"Remaining balance: {api.get_balance()}\")\n",
        "    time.sleep(2)\n",
        "import yfinance as yf\n",
        "from datetime import datetime\n",
        "\n",
        "# Download AAPL data\n",
        "symbol = 'AAPL'\n",
        "data = yf.download(tickers=symbol, period='1d', interval='1m')\n",
        "closing_prices = list(data['Close'])  # updated here\n",
        "\n",
        "# SMA Strategy\n",
        "class SMA:\n",
        "    def __init__(self, short_window, long_window):\n",
        "        self.short_window = short_window\n",
        "        self.long_window = long_window\n",
        "\n",
        "    def generate_signal(self, price):\n",
        "        if len(price) < self.long_window:\n",
        "            return \"Hold\"\n",
        "        short_avg = sum(price[-self.short_window:]) / self.short_window\n",
        "        long_avg = sum(price[-self.long_window:]) / self.long_window\n",
        "\n",
        "        if short_avg > long_avg:\n",
        "            return \"Buy\"\n",
        "        elif short_avg < long_avg:\n",
        "            return \"Sell\"\n",
        "        else:\n",
        "            return \"Hold\"\n",
        "\n",
        "# Apply strategy\n",
        "strategy = SMA(short_window=3, long_window=6)\n",
        "signal = strategy.generate_signal(closing_prices)\n",
        "last_price = closing_prices[-1]\n",
        "\n",
        "# Output results\n",
        "print(f\"Last closing price of {symbol}: {last_price}\")\n",
        "print(f\"Trading signal for today: {signal}\")\n"
      ],
      "metadata": {
        "colab": {
          "base_uri": "https://localhost:8080/"
        },
        "id": "6fvxPG2Xtrzu",
        "outputId": "ed8b9eca-2f88-48bd-ca55-37b48cc29120"
      },
      "execution_count": null,
      "outputs": [
        {
          "output_type": "stream",
          "name": "stderr",
          "text": [
            "\r[*********************100%***********************]  1 of 1 completed\n"
          ]
        },
        {
          "output_type": "stream",
          "name": "stdout",
          "text": [
            "Fetched data: Ticker\n",
            "AAPL    209.25\n",
            "Name: 2025-04-28 00:00:00, dtype: float64\n",
            "Generated signal: Hold\n",
            "Generated signal: Hold\n",
            "Remaining balance: 10000\n"
          ]
        },
        {
          "output_type": "stream",
          "name": "stderr",
          "text": [
            "\r[*********************100%***********************]  1 of 1 completed\n"
          ]
        },
        {
          "output_type": "stream",
          "name": "stdout",
          "text": [
            "Fetched data: Ticker\n",
            "AAPL    209.25\n",
            "Name: 2025-04-28 00:00:00, dtype: float64\n",
            "Generated signal: Hold\n",
            "Generated signal: Hold\n",
            "Remaining balance: 10000\n"
          ]
        },
        {
          "output_type": "stream",
          "name": "stderr",
          "text": [
            "\r[*********************100%***********************]  1 of 1 completed\n"
          ]
        },
        {
          "output_type": "stream",
          "name": "stdout",
          "text": [
            "Fetched data: Ticker\n",
            "AAPL    209.25\n",
            "Name: 2025-04-28 00:00:00, dtype: float64\n",
            "Generated signal: Hold\n",
            "Generated signal: Hold\n",
            "Remaining balance: 10000\n"
          ]
        },
        {
          "output_type": "stream",
          "name": "stderr",
          "text": [
            "\r[*********************100%***********************]  1 of 1 completed\n"
          ]
        },
        {
          "output_type": "stream",
          "name": "stdout",
          "text": [
            "Fetched data: Ticker\n",
            "AAPL    209.25\n",
            "Name: 2025-04-28 00:00:00, dtype: float64\n",
            "Generated signal: Hold\n",
            "Generated signal: Hold\n",
            "Remaining balance: 10000\n"
          ]
        },
        {
          "output_type": "stream",
          "name": "stderr",
          "text": [
            "\r[*********************100%***********************]  1 of 1 completed\n"
          ]
        },
        {
          "output_type": "stream",
          "name": "stdout",
          "text": [
            "Fetched data: Ticker\n",
            "AAPL    209.25\n",
            "Name: 2025-04-28 00:00:00, dtype: float64\n",
            "Generated signal: Hold\n",
            "Generated signal: Hold\n",
            "Remaining balance: 10000\n"
          ]
        },
        {
          "output_type": "stream",
          "name": "stderr",
          "text": [
            "\r[*********************100%***********************]  1 of 1 completed\n"
          ]
        },
        {
          "output_type": "stream",
          "name": "stdout",
          "text": [
            "Fetched data: Ticker\n",
            "AAPL    209.240005\n",
            "Name: 2025-04-28 00:00:00, dtype: float64\n",
            "Generated signal: None\n",
            "Generated signal: None\n",
            "Remaining balance: 10000\n"
          ]
        },
        {
          "output_type": "stream",
          "name": "stderr",
          "text": [
            "\r[*********************100%***********************]  1 of 1 completed\n"
          ]
        },
        {
          "output_type": "stream",
          "name": "stdout",
          "text": [
            "Fetched data: Ticker\n",
            "AAPL    209.240005\n",
            "Name: 2025-04-28 00:00:00, dtype: float64\n",
            "Generated signal: None\n",
            "Generated signal: None\n",
            "Remaining balance: 10000\n"
          ]
        },
        {
          "output_type": "stream",
          "name": "stderr",
          "text": [
            "\r[*********************100%***********************]  1 of 1 completed\n"
          ]
        },
        {
          "output_type": "stream",
          "name": "stdout",
          "text": [
            "Fetched data: Ticker\n",
            "AAPL    209.240005\n",
            "Name: 2025-04-28 00:00:00, dtype: float64\n",
            "Generated signal: None\n",
            "Generated signal: None\n",
            "Remaining balance: 10000\n"
          ]
        },
        {
          "output_type": "stream",
          "name": "stderr",
          "text": [
            "\r[*********************100%***********************]  1 of 1 completed\n"
          ]
        },
        {
          "output_type": "stream",
          "name": "stdout",
          "text": [
            "Fetched data: Ticker\n",
            "AAPL    209.240005\n",
            "Name: 2025-04-28 00:00:00, dtype: float64\n",
            "Generated signal: None\n",
            "Generated signal: None\n",
            "Remaining balance: 10000\n"
          ]
        },
        {
          "output_type": "stream",
          "name": "stderr",
          "text": [
            "\r[*********************100%***********************]  1 of 1 completed\n"
          ]
        },
        {
          "output_type": "stream",
          "name": "stdout",
          "text": [
            "Fetched data: Ticker\n",
            "AAPL    209.240005\n",
            "Name: 2025-04-28 00:00:00, dtype: float64\n",
            "Generated signal: None\n",
            "Generated signal: None\n",
            "Remaining balance: 10000\n"
          ]
        },
        {
          "output_type": "stream",
          "name": "stderr",
          "text": [
            "\r[*********************100%***********************]  1 of 1 completed"
          ]
        },
        {
          "output_type": "stream",
          "name": "stdout",
          "text": [
            "Last closing price of AAPL: AAPL\n",
            "Trading signal for today: Hold\n"
          ]
        },
        {
          "output_type": "stream",
          "name": "stderr",
          "text": [
            "\n"
          ]
        }
      ]
    }
  ]
}